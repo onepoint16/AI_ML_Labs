{
 "cells": [
  {
   "cell_type": "markdown",
   "metadata": {},
   "source": [
    "# Lab Week 5 Task 1 Code\n",
    "Code Accompanying the Chapter 5: Predictive Analytics with Ensemble Learning of the Book: **Classification and Regression Using Supervised Learning, A., Joshi, P. (2020)**"
   ]
  },
  {
   "cell_type": "code",
   "execution_count": 1,
   "metadata": {},
   "outputs": [],
   "source": [
    "import pickle\n",
    "\n",
    "import matplotlib.pyplot as plt\n",
    "import numpy as np\n",
    "import sklearn.metrics as sm\n",
    "from sklearn import datasets, linear_model, preprocessing\n",
    "from sklearn.metrics import classification_report, confusion_matrix, explained_variance_score, mean_squared_error\n",
    "from sklearn.model_selection import cross_val_score, train_test_split\n",
    "from sklearn.multiclass import OneVsOneClassifier\n",
    "from sklearn.naive_bayes import GaussianNB\n",
    "from sklearn.svm import SVR, LinearSVC\n",
    "from sklearn.utils import shuffle\n"
   ]
  },
  {
   "cell_type": "code",
   "execution_count": 2,
   "metadata": {},
   "outputs": [],
   "source": [
    "def visualize_classifier(classifier, X, y):\n",
    "    # Define the minimum and maximum values for X and Y\n",
    "    # that will be used in the mesh grid\n",
    "    min_x, max_x = X[:, 0].min() - 1.0, X[:, 0].max() + 1.0\n",
    "    min_y, max_y = X[:, 1].min() - 1.0, X[:, 1].max() + 1.0\n",
    "\n",
    "    # Define the step size to use in plotting the mesh grid \n",
    "    mesh_step_size = 0.01\n",
    "\n",
    "    # Define the mesh grid of X and Y values\n",
    "    x_vals, y_vals = np.meshgrid(np.arange(min_x, max_x, mesh_step_size), np.arange(min_y, max_y, mesh_step_size))\n",
    "\n",
    "    # Run the classifier on the mesh grid\n",
    "    output = classifier.predict(np.c_[x_vals.ravel(), y_vals.ravel()])\n",
    "\n",
    "    # Reshape the output array\n",
    "    output = output.reshape(x_vals.shape)\n",
    "\n",
    "    # Create a plot\n",
    "    plt.figure()\n",
    "\n",
    "    # Choose a color scheme for the plot \n",
    "    plt.pcolormesh(x_vals, y_vals, output, cmap=plt.cm.gray)\n",
    "\n",
    "    # Overlay the training points on the plot \n",
    "    plt.scatter(X[:, 0], X[:, 1], c=y, s=75, edgecolors='black', linewidth=1, cmap=plt.cm.Paired)\n",
    "\n",
    "    # Specify the boundaries of the plot\n",
    "    plt.xlim(x_vals.min(), x_vals.max())\n",
    "    plt.ylim(y_vals.min(), y_vals.max())\n",
    "\n",
    "    # Specify the ticks on the X and Y axes\n",
    "    plt.xticks((np.arange(int(X[:, 0].min() - 1), int(X[:, 0].max() + 1), 1.0)))\n",
    "    plt.yticks((np.arange(int(X[:, 1].min() - 1), int(X[:, 1].max() + 1), 1.0)))\n",
    "\n",
    "    plt.show()\n",
    "\n"
   ]
  },
  {
   "cell_type": "markdown",
   "metadata": {},
   "source": [
    "## Preprocessing data"
   ]
  },
  {
   "cell_type": "code",
   "execution_count": 3,
   "metadata": {},
   "outputs": [
    {
     "name": "stdout",
     "output_type": "stream",
     "text": [
      "\n",
      "Binarized data:\n",
      " [[1. 0. 1.]\n",
      " [0. 1. 0.]\n",
      " [1. 0. 0.]\n",
      " [1. 0. 0.]]\n",
      "\n",
      "BEFORE:\n",
      "Mean = [ 3.775 -1.15  -1.3  ]\n",
      "Std deviation = [3.12039661 6.36651396 4.0620192 ]\n",
      "\n",
      "AFTER:\n",
      "Mean = [1.11022302e-16 0.00000000e+00 2.77555756e-17]\n",
      "Std deviation = [1. 1. 1.]\n",
      "\n",
      "Min max scaled data:\n",
      " [[0.74117647 0.39548023 1.        ]\n",
      " [0.         1.         0.        ]\n",
      " [0.6        0.5819209  0.87234043]\n",
      " [1.         0.         0.17021277]]\n",
      "\n",
      "L1 normalized data:\n",
      " [[ 0.45132743 -0.25663717  0.2920354 ]\n",
      " [-0.0794702   0.51655629 -0.40397351]\n",
      " [ 0.609375    0.0625      0.328125  ]\n",
      " [ 0.33640553 -0.4562212  -0.20737327]]\n",
      "\n",
      "L2 normalized data:\n",
      " [[ 0.75765788 -0.43082507  0.49024922]\n",
      " [-0.12030718  0.78199664 -0.61156148]\n",
      " [ 0.87690281  0.08993875  0.47217844]\n",
      " [ 0.55734935 -0.75585734 -0.34357152]]\n"
     ]
    }
   ],
   "source": [
    "input_data = np.array([[5.1, -2.9, 3.3],\n",
    "                       [-1.2, 7.8, -6.1],\n",
    "                       [3.9, 0.4, 2.1],\n",
    "                       [7.3, -9.9, -4.5]])\n",
    "\n",
    "# Binarize data \n",
    "data_binarized = preprocessing.Binarizer(threshold=2.1).transform(input_data)\n",
    "print(\"\\nBinarized data:\\n\", data_binarized)\n",
    "\n",
    "# Print mean and standard deviation\n",
    "print(\"\\nBEFORE:\")\n",
    "print(\"Mean =\", input_data.mean(axis=0))\n",
    "print(\"Std deviation =\", input_data.std(axis=0))\n",
    "\n",
    "# Remove mean\n",
    "data_scaled = preprocessing.scale(input_data)\n",
    "print(\"\\nAFTER:\")\n",
    "print(\"Mean =\", data_scaled.mean(axis=0))\n",
    "print(\"Std deviation =\", data_scaled.std(axis=0))\n",
    "\n",
    "# Min max scaling\n",
    "data_scaler_minmax = preprocessing.MinMaxScaler(feature_range=(0, 1))\n",
    "data_scaled_minmax = data_scaler_minmax.fit_transform(input_data)\n",
    "print(\"\\nMin max scaled data:\\n\", data_scaled_minmax)\n",
    "\n",
    "# Normalize data\n",
    "data_normalized_l1 = preprocessing.normalize(input_data, norm='l1')\n",
    "data_normalized_l2 = preprocessing.normalize(input_data, norm='l2')\n",
    "print(\"\\nL1 normalized data:\\n\", data_normalized_l1)\n",
    "print(\"\\nL2 normalized data:\\n\", data_normalized_l2)\n",
    "\n"
   ]
  },
  {
   "cell_type": "code",
   "execution_count": 4,
   "metadata": {},
   "outputs": [
    {
     "name": "stdout",
     "output_type": "stream",
     "text": [
      "\n",
      "Label mapping:\n",
      "black --> 0\n",
      "green --> 1\n",
      "red --> 2\n",
      "white --> 3\n",
      "yellow --> 4\n",
      "\n",
      "Labels = ['green', 'red', 'black']\n",
      "Encoded values = [1, 2, 0]\n",
      "\n",
      "Encoded values = [3, 0, 4, 1]\n",
      "Decoded labels = ['white', 'black', 'yellow', 'green']\n"
     ]
    }
   ],
   "source": [
    "import numpy as np\n",
    "from sklearn import preprocessing\n",
    "\n",
    "# Sample input labels\n",
    "input_labels = ['red', 'black', 'red', 'green', 'black', 'yellow', 'white']\n",
    "\n",
    "# Create label encoder and fit the labels\n",
    "encoder = preprocessing.LabelEncoder()\n",
    "encoder.fit(input_labels)\n",
    "\n",
    "# Print the mapping \n",
    "print(\"\\nLabel mapping:\")\n",
    "for i, item in enumerate(encoder.classes_):\n",
    "    print(item, '-->', i)\n",
    "\n",
    "# Encode a set of labels using the encoder\n",
    "test_labels = ['green', 'red', 'black']\n",
    "encoded_values = encoder.transform(test_labels)\n",
    "print(\"\\nLabels =\", test_labels)\n",
    "print(\"Encoded values =\", list(encoded_values))\n",
    "\n",
    "# Decode a set of values using the encoder\n",
    "encoded_values = [3, 0, 4, 1]\n",
    "decoded_list = encoder.inverse_transform(encoded_values)\n",
    "print(\"\\nEncoded values =\", encoded_values)\n",
    "print(\"Decoded labels =\", list(decoded_list))\n"
   ]
  },
  {
   "cell_type": "markdown",
   "metadata": {},
   "source": [
    "## Logistic regression classifiers"
   ]
  },
  {
   "cell_type": "code",
   "execution_count": 5,
   "metadata": {},
   "outputs": [
    {
     "data": {
      "image/png": "[encoded data removed]",
      "text/plain": [
       "<Figure size 432x288 with 1 Axes>"
      ]
     },
     "metadata": {
      "needs_background": "light"
     },
     "output_type": "display_data"
    }
   ],
   "source": [
    "import numpy as np\n",
    "from sklearn import linear_model \n",
    "import matplotlib.pyplot as plt\n",
    "\n",
    "\n",
    "# Define sample input data\n",
    "X = np.array([[3.1, 7.2], [4, 6.7], [2.9, 8], [5.1, 4.5], [6, 5], [5.6, 5], [3.3, 0.4], [3.9, 0.9], [2.8, 1], [0.5, 3.4], [1, 4], [0.6, 4.9]])\n",
    "y = np.array([0, 0, 0, 1, 1, 1, 2, 2, 2, 3, 3, 3])\n",
    "\n",
    "# Create the logistic regression classifier\n",
    "classifier = linear_model.LogisticRegression(solver='liblinear', C=1)\n",
    "#classifier = linear_model.LogisticRegression(solver='liblinear', C=100)\n",
    "\n",
    "# Train the classifier\n",
    "classifier.fit(X, y)\n",
    "\n",
    "# Visualize the performance of the classifier \n",
    "visualize_classifier(classifier, X, y)\n"
   ]
  },
  {
   "cell_type": "markdown",
   "metadata": {},
   "source": [
    "## The Naïve Bayes classifier"
   ]
  },
  {
   "cell_type": "code",
   "execution_count": 6,
   "metadata": {},
   "outputs": [
    {
     "name": "stdout",
     "output_type": "stream",
     "text": [
      "Accuracy of Naive Bayes classifier = 99.75 %\n"
     ]
    },
    {
     "data": {
      "image/png": "[encoded data removed]",
      "text/plain": [
       "<Figure size 432x288 with 1 Axes>"
      ]
     },
     "metadata": {
      "needs_background": "light"
     },
     "output_type": "display_data"
    },
    {
     "name": "stdout",
     "output_type": "stream",
     "text": [
      "Accuracy of the new classifier = 100.0 %\n"
     ]
    },
    {
     "data": {
      "image/png": "[encoded data removed]",
      "text/plain": [
       "<Figure size 432x288 with 1 Axes>"
      ]
     },
     "metadata": {
      "needs_background": "light"
     },
     "output_type": "display_data"
    },
    {
     "name": "stdout",
     "output_type": "stream",
     "text": [
      "Accuracy: 99.75%\n",
      "Precision: 99.76%\n",
      "Recall: 99.75%\n",
      "F1: 99.75%\n"
     ]
    }
   ],
   "source": [
    "\n",
    "\n",
    "# Input file containing data\n",
    "input_file = 'data_multivar_nb.txt'\n",
    "\n",
    "# Load data from input file\n",
    "data = np.loadtxt(input_file, delimiter=',')\n",
    "X, y = data[:, :-1], data[:, -1] \n",
    "\n",
    "# Create Naive Bayes classifier \n",
    "classifier = GaussianNB()\n",
    "\n",
    "# Train the classifier\n",
    "classifier.fit(X, y)\n",
    "\n",
    "# Predict the values for training data\n",
    "y_pred = classifier.predict(X)\n",
    "\n",
    "# Compute accuracy\n",
    "accuracy = 100.0 * (y == y_pred).sum() / X.shape[0]\n",
    "print(\"Accuracy of Naive Bayes classifier =\", round(accuracy, 2), \"%\")\n",
    "\n",
    "# Visualize the performance of the classifier\n",
    "visualize_classifier(classifier, X, y)\n",
    "\n",
    "###############################################\n",
    "# Cross validation \n",
    "\n",
    "# Split data into training and test data \n",
    "X_train, X_test, y_train, y_test = train_test_split(X, y, test_size=0.2, random_state=3)\n",
    "classifier_new = GaussianNB()\n",
    "classifier_new.fit(X_train, y_train)\n",
    "y_test_pred = classifier_new.predict(X_test)\n",
    "\n",
    "# compute accuracy of the classifier\n",
    "accuracy = 100.0 * (y_test == y_test_pred).sum() / X_test.shape[0]\n",
    "print(\"Accuracy of the new classifier =\", round(accuracy, 2), \"%\")\n",
    "\n",
    "# Visualize the performance of the classifier\n",
    "visualize_classifier(classifier_new, X_test, y_test)\n",
    "\n",
    "###############################################\n",
    "# Scoring functions\n",
    "\n",
    "num_folds = 3\n",
    "accuracy_values = cross_val_score(classifier, \n",
    "        X, y, scoring='accuracy', cv=num_folds)\n",
    "print(\"Accuracy: \" + str(round(100*accuracy_values.mean(), 2)) + \"%\")\n",
    "\n",
    "precision_values = cross_val_score(classifier, \n",
    "        X, y, scoring='precision_weighted', cv=num_folds)\n",
    "print(\"Precision: \" + str(round(100*precision_values.mean(), 2)) + \"%\")\n",
    "\n",
    "recall_values = cross_val_score(classifier, \n",
    "        X, y, scoring='recall_weighted', cv=num_folds)\n",
    "print(\"Recall: \" + str(round(100*recall_values.mean(), 2)) + \"%\")\n",
    "\n",
    "f1_values = cross_val_score(classifier, \n",
    "        X, y, scoring='f1_weighted', cv=num_folds)\n",
    "print(\"F1: \" + str(round(100*f1_values.mean(), 2)) + \"%\")\n",
    "\n"
   ]
  },
  {
   "cell_type": "markdown",
   "metadata": {},
   "source": [
    "## Confusion matrixes\n",
    "(More on that in this week's lecture.)"
   ]
  },
  {
   "cell_type": "code",
   "execution_count": 7,
   "metadata": {},
   "outputs": [
    {
     "data": {
      "image/png": "[encoded data removed]",
      "text/plain": [
       "<Figure size 432x288 with 2 Axes>"
      ]
     },
     "metadata": {
      "needs_background": "light"
     },
     "output_type": "display_data"
    },
    {
     "name": "stdout",
     "output_type": "stream",
     "text": [
      "\n",
      "               precision    recall  f1-score   support\n",
      "\n",
      "     Class-0       1.00      0.67      0.80         3\n",
      "     Class-1       0.33      1.00      0.50         1\n",
      "     Class-2       1.00      1.00      1.00         2\n",
      "     Class-3       0.67      0.67      0.67         3\n",
      "     Class-4       1.00      0.50      0.67         2\n",
      "\n",
      "    accuracy                           0.73        11\n",
      "   macro avg       0.80      0.77      0.73        11\n",
      "weighted avg       0.85      0.73      0.75        11\n",
      "\n"
     ]
    }
   ],
   "source": [
    "# Define sample labels\n",
    "true_labels = [2, 0, 0, 2, 4, 4, 1, 0, 3, 3, 3]\n",
    "pred_labels = [2, 1, 0, 2, 4, 3, 1, 0, 1, 3, 3]\n",
    "\n",
    "# Create confusion matrix\n",
    "confusion_mat = confusion_matrix(true_labels, pred_labels)\n",
    "\n",
    "# Visualize confusion matrix\n",
    "plt.imshow(confusion_mat, interpolation='nearest', cmap=plt.cm.gray)\n",
    "plt.title('Confusion matrix')\n",
    "plt.colorbar()\n",
    "ticks = np.arange(5)\n",
    "plt.xticks(ticks, ticks)\n",
    "plt.yticks(ticks, ticks)\n",
    "plt.ylabel('True labels')\n",
    "plt.xlabel('Predicted labels')\n",
    "plt.show()\n",
    "\n",
    "# Classification report\n",
    "targets = ['Class-0', 'Class-1', 'Class-2', 'Class-3', 'Class-4']\n",
    "print('\\n', classification_report(true_labels, pred_labels, target_names=targets))\n",
    "\n"
   ]
  },
  {
   "cell_type": "markdown",
   "metadata": {},
   "source": [
    "## Classifying income data using Support Vector Machines"
   ]
  },
  {
   "cell_type": "code",
   "execution_count": 17,
   "metadata": {},
   "outputs": [
    {
     "name": "stderr",
     "output_type": "stream",
     "text": [
      "c:\\Users\\jko2\\Anaconda3\\envs\\test\\lib\\site-packages\\sklearn\\svm\\_base.py:1225: ConvergenceWarning: Liblinear failed to converge, increase the number of iterations.\n",
      "  warnings.warn(\n",
      "c:\\Users\\jko2\\Anaconda3\\envs\\test\\lib\\site-packages\\sklearn\\svm\\_base.py:1225: ConvergenceWarning: Liblinear failed to converge, increase the number of iterations.\n",
      "  warnings.warn(\n",
      "c:\\Users\\jko2\\Anaconda3\\envs\\test\\lib\\site-packages\\sklearn\\svm\\_base.py:1225: ConvergenceWarning: Liblinear failed to converge, increase the number of iterations.\n",
      "  warnings.warn(\n",
      "c:\\Users\\jko2\\Anaconda3\\envs\\test\\lib\\site-packages\\sklearn\\svm\\_base.py:1225: ConvergenceWarning: Liblinear failed to converge, increase the number of iterations.\n",
      "  warnings.warn(\n"
     ]
    },
    {
     "name": "stdout",
     "output_type": "stream",
     "text": [
      "F1 score: 70.71%\n",
      "[37, 2, 215646, 11, 9, 4, 5, 1, 4, 1, 0, 0, 40, 38]\n",
      "<=50K\n"
     ]
    },
    {
     "name": "stderr",
     "output_type": "stream",
     "text": [
      "c:\\Users\\jko2\\Anaconda3\\envs\\test\\lib\\site-packages\\sklearn\\svm\\_base.py:1225: ConvergenceWarning: Liblinear failed to converge, increase the number of iterations.\n",
      "  warnings.warn(\n"
     ]
    }
   ],
   "source": [
    "\n",
    "# Input file containing data\n",
    "input_file = 'income_data.txt'\n",
    "\n",
    "# Read the data\n",
    "X = []\n",
    "y = []\n",
    "count_class1 = 0\n",
    "count_class2 = 0\n",
    "max_datapoints = 25000\n",
    "\n",
    "with open(input_file, 'r') as f:\n",
    "    for line in f.readlines():\n",
    "        if count_class1 >= max_datapoints and count_class2 >= max_datapoints:\n",
    "            break\n",
    "\n",
    "        if '?' in line:\n",
    "            continue\n",
    "\n",
    "        data = line[:-1].split(', ')\n",
    "\n",
    "        if data[-1] == '<=50K' and count_class1 < max_datapoints:\n",
    "            X.append(data)\n",
    "            count_class1 += 1\n",
    "\n",
    "        if data[-1] == '>50K' and count_class2 < max_datapoints:\n",
    "            X.append(data)\n",
    "            count_class2 += 1\n",
    "\n",
    "# Convert to numpy array\n",
    "X = np.array(X)\n",
    "\n",
    "# Convert string data to numerical data\n",
    "label_encoder = [] \n",
    "X_encoded = np.empty(X.shape)\n",
    "for i,item in enumerate(X[0]):\n",
    "    if item.isdigit(): \n",
    "        X_encoded[:, i] = X[:, i]\n",
    "    else:\n",
    "        label_encoder.append(preprocessing.LabelEncoder())\n",
    "        X_encoded[:, i] = label_encoder[-1].fit_transform(X[:, i])\n",
    "\n",
    "X = X_encoded[:, :-1].astype(int)\n",
    "y = X_encoded[:, -1].astype(int)\n",
    "\n",
    "# Create SVM classifier\n",
    "classifier = OneVsOneClassifier(LinearSVC(random_state=0))\n",
    "\n",
    "# Train the classifier\n",
    "classifier.fit(X, y)\n",
    "\n",
    "# Cross validation\n",
    "X_train, X_test, y_train, y_test = train_test_split(X, y, test_size=0.2, random_state=5)\n",
    "classifier = OneVsOneClassifier(LinearSVC(random_state=0))\n",
    "classifier.fit(X_train, y_train)\n",
    "y_test_pred = classifier.predict(X_test)\n",
    "\n",
    "# Compute the F1 score of the SVM classifier\n",
    "f1 = cross_val_score(classifier, X, y, scoring='f1_weighted', cv=3)\n",
    "print(\"F1 score: \" + str(round(100*f1.mean(), 2)) + \"%\")\n",
    "\n",
    "# Predict output for a test datapoint\n",
    "input_data = ['37', 'Private', '215646', 'HS-grad', '9', 'Never-married', 'Handlers-cleaners', 'Not-in-family', 'White', 'Male', '0', '0', '40', 'United-States']\n",
    "\n",
    "# Encode test datapoint\n",
    "input_data_encoded = [-1] * len(input_data)\n",
    "count = 0\n",
    "for i, item in enumerate(input_data):\n",
    "    if item.isdigit():\n",
    "        input_data_encoded[i] = int(input_data[i])\n",
    "    else:\n",
    "        input_data_encoded[i] = int(label_encoder[count].transform([input_data[i]]))\n",
    "        count += 1 \n",
    "\n",
    "print(input_data_encoded)\n",
    "\n",
    "input_data_encoded = np.array(input_data_encoded)\n",
    "\n",
    "# Run classifier on encoded datapoint and print output\n",
    "predicted_class = classifier.predict([input_data_encoded])\n",
    "print(label_encoder[-1].inverse_transform(predicted_class)[0])\n",
    "\n"
   ]
  },
  {
   "cell_type": "markdown",
   "metadata": {},
   "source": [
    "## Building a single-variable regressor"
   ]
  },
  {
   "cell_type": "code",
   "execution_count": 9,
   "metadata": {},
   "outputs": [
    {
     "data": {
      "image/png": "[encoded data removed]",
      "text/plain": [
       "<Figure size 432x288 with 1 Axes>"
      ]
     },
     "metadata": {},
     "output_type": "display_data"
    },
    {
     "name": "stdout",
     "output_type": "stream",
     "text": [
      "Linear regressor performance:\n",
      "Mean absolute error = 0.59\n",
      "Mean squared error = 0.49\n",
      "Median absolute error = 0.51\n",
      "Explain variance score = 0.86\n",
      "R2 score = 0.86\n",
      "\n",
      "New mean absolute error = 0.59\n"
     ]
    }
   ],
   "source": [
    "\n",
    "# Input file containing data\n",
    "input_file = 'data_singlevar_regr.txt' \n",
    "\n",
    "# Read data\n",
    "data = np.loadtxt(input_file, delimiter=',')\n",
    "X, y = data[:, :-1], data[:, -1]\n",
    "\n",
    "# Train and test split\n",
    "num_training = int(0.8 * len(X))\n",
    "num_test = len(X) - num_training\n",
    "\n",
    "# Training data\n",
    "X_train, y_train = X[:num_training], y[:num_training]\n",
    "\n",
    "# Test data\n",
    "X_test, y_test = X[num_training:], y[num_training:]\n",
    "\n",
    "# Create linear regressor object\n",
    "regressor = linear_model.LinearRegression()\n",
    "\n",
    "# Train the model using the training sets\n",
    "regressor.fit(X_train, y_train)\n",
    "\n",
    "# Predict the output\n",
    "y_test_pred = regressor.predict(X_test)\n",
    "\n",
    "# Plot outputs\n",
    "plt.scatter(X_test, y_test, color='green')\n",
    "plt.plot(X_test, y_test_pred, color='black', linewidth=4)\n",
    "plt.xticks(())\n",
    "plt.yticks(())\n",
    "plt.show()\n",
    "\n",
    "# Compute performance metrics\n",
    "print(\"Linear regressor performance:\")\n",
    "print(\"Mean absolute error =\", round(sm.mean_absolute_error(y_test, y_test_pred), 2))\n",
    "print(\"Mean squared error =\", round(sm.mean_squared_error(y_test, y_test_pred), 2)) \n",
    "print(\"Median absolute error =\", round(sm.median_absolute_error(y_test, y_test_pred), 2)) \n",
    "print(\"Explain variance score =\", round(sm.explained_variance_score(y_test, y_test_pred), 2))\n",
    "print(\"R2 score =\", round(sm.r2_score(y_test, y_test_pred), 2))\n",
    "\n",
    "# Model persistence\n",
    "output_model_file = 'model.pkl'\n",
    "\n",
    "# Save the model\n",
    "with open(output_model_file, 'wb') as f:\n",
    "    pickle.dump(regressor, f)\n",
    "\n",
    "# Load the model\n",
    "with open(output_model_file, 'rb') as f:\n",
    "    regressor_model = pickle.load(f)\n",
    "\n",
    "# Perform prediction on test data\n",
    "y_test_pred_new = regressor_model.predict(X_test)\n",
    "print(\"\\nNew mean absolute error =\", round(sm.mean_absolute_error(y_test, y_test_pred_new), 2))\n",
    "\n"
   ]
  },
  {
   "cell_type": "markdown",
   "metadata": {},
   "source": [
    "## Building a multivariable regressor"
   ]
  },
  {
   "cell_type": "code",
   "execution_count": 10,
   "metadata": {},
   "outputs": [
    {
     "name": "stdout",
     "output_type": "stream",
     "text": [
      "Linear Regressor performance:\n",
      "Mean absolute error = 3.58\n",
      "Mean squared error = 20.31\n",
      "Median absolute error = 2.99\n",
      "Explained variance score = 0.86\n",
      "R2 score = 0.86\n",
      "\n",
      "Linear regression:\n",
      " [36.05286276]\n",
      "\n",
      "Polynomial regression:\n",
      " [41.45562492]\n"
     ]
    }
   ],
   "source": [
    "\n",
    "# Input file containing data\n",
    "input_file = 'data_multivar_regr.txt'\n",
    "\n",
    "# Load the data from the input file\n",
    "data = np.loadtxt(input_file, delimiter=',')\n",
    "X, y = data[:, :-1], data[:, -1]\n",
    "\n",
    "# Split data into training and testing \n",
    "num_training = int(0.8 * len(X))\n",
    "num_test = len(X) - num_training\n",
    "\n",
    "# Training data\n",
    "X_train, y_train = X[:num_training], y[:num_training]\n",
    "\n",
    "# Test data\n",
    "X_test, y_test = X[num_training:], y[num_training:]\n",
    "\n",
    "# Create the linear regressor model\n",
    "linear_regressor = linear_model.LinearRegression()\n",
    "\n",
    "# Train the model using the training sets\n",
    "linear_regressor.fit(X_train, y_train)\n",
    "\n",
    "# Predict the output\n",
    "y_test_pred = linear_regressor.predict(X_test)\n",
    "\n",
    "# Measure performance\n",
    "print(\"Linear Regressor performance:\")\n",
    "print(\"Mean absolute error =\", round(sm.mean_absolute_error(y_test, y_test_pred), 2))\n",
    "print(\"Mean squared error =\", round(sm.mean_squared_error(y_test, y_test_pred), 2))\n",
    "print(\"Median absolute error =\", round(sm.median_absolute_error(y_test, y_test_pred), 2))\n",
    "print(\"Explained variance score =\", round(sm.explained_variance_score(y_test, y_test_pred), 2))\n",
    "print(\"R2 score =\", round(sm.r2_score(y_test, y_test_pred), 2))\n",
    "\n",
    "# Polynomial regression\n",
    "polynomial = preprocessing.PolynomialFeatures(degree=10)\n",
    "X_train_transformed = polynomial.fit_transform(X_train)\n",
    "datapoint = [[7.75, 6.35, 5.56]]\n",
    "poly_datapoint = polynomial.fit_transform(datapoint)\n",
    "\n",
    "poly_linear_model = linear_model.LinearRegression()\n",
    "poly_linear_model.fit(X_train_transformed, y_train)\n",
    "print(\"\\nLinear regression:\\n\", linear_regressor.predict(datapoint))\n",
    "print(\"\\nPolynomial regression:\\n\", poly_linear_model.predict(poly_datapoint))\n",
    "\n"
   ]
  },
  {
   "cell_type": "markdown",
   "metadata": {},
   "source": [
    "## Estimating housing prices using a Support Vector Regressor\n",
    "\n"
   ]
  },
  {
   "cell_type": "code",
   "execution_count": 20,
   "metadata": {},
   "outputs": [
    {
     "name": "stdout",
     "output_type": "stream",
     "text": [
      "\n",
      "#### Performance ####\n",
      "Mean squared error = 106.93\n",
      "Explained variance score = -0.25\n",
      "\n",
      "Predicted price: 1.273909384763904\n"
     ]
    },
    {
     "name": "stderr",
     "output_type": "stream",
     "text": [
      "c:\\Users\\jko2\\Anaconda3\\envs\\test\\lib\\site-packages\\sklearn\\utils\\deprecation.py:87: FutureWarning: Function load_boston is deprecated; `load_boston` is deprecated in 1.0 and will be removed in 1.2.\n",
      "\n",
      "    The Boston housing prices dataset has an ethical problem. You can refer to\n",
      "    the documentation of this function for further details.\n",
      "\n",
      "    The scikit-learn maintainers therefore strongly discourage the use of this\n",
      "    dataset unless the purpose of the code is to study and educate about\n",
      "    ethical issues in data science and machine learning.\n",
      "\n",
      "    In this special case, you can fetch the dataset from the original\n",
      "    source::\n",
      "\n",
      "        import pandas as pd\n",
      "        import numpy as np\n",
      "\n",
      "        data_url = \"http://lib.stat.cmu.edu/datasets/boston\"\n",
      "        raw_df = pd.read_csv(data_url, sep=\"\\s+\", skiprows=22, header=None)\n",
      "        data = np.hstack([raw_df.values[::2, :], raw_df.values[1::2, :2]])\n",
      "        target = raw_df.values[1::2, 2]\n",
      "\n",
      "    Alternative datasets include the California housing dataset (i.e.\n",
      "    :func:`~sklearn.datasets.fetch_california_housing`) and the Ames housing\n",
      "    dataset. You can load the datasets as follows::\n",
      "\n",
      "        from sklearn.datasets import fetch_california_housing\n",
      "        housing = fetch_california_housing()\n",
      "\n",
      "    for the California housing dataset and::\n",
      "\n",
      "        from sklearn.datasets import fetch_openml\n",
      "        housing = fetch_openml(name=\"house_prices\", as_frame=True)\n",
      "\n",
      "    for the Ames housing dataset.\n",
      "  warnings.warn(msg, category=FutureWarning)\n",
      "c:\\Users\\jko2\\Anaconda3\\envs\\test\\lib\\site-packages\\sklearn\\svm\\_base.py:301: ConvergenceWarning: Solver terminated early (max_iter=10000).  Consider pre-processing your data with StandardScaler or MinMaxScaler.\n",
      "  warnings.warn(\n"
     ]
    }
   ],
   "source": [
    "# Load housing data\n",
    "data = datasets.load_boston() \n",
    "\n",
    "# Shuffle the data\n",
    "X, y = shuffle(data.data, data.target, random_state=7)\n",
    "\n",
    "# Split the data into training and testing datasets \n",
    "num_training = int(0.8 * len(X))\n",
    "X_train, y_train = X[:num_training], y[:num_training]\n",
    "X_test, y_test = X[num_training:], y[num_training:]\n",
    "\n",
    "# Create Support Vector Regression model\n",
    "sv_regressor = SVR(kernel='linear', C=1.0, epsilon=0.1)\n",
    "\n",
    "# Train Support Vector Regressor\n",
    "sv_regressor.fit(X_train, y_train)\n",
    "\n",
    "# Evaluate performance of Support Vector Regressor\n",
    "y_test_pred = sv_regressor.predict(X_test)\n",
    "mse = mean_squared_error(y_test, y_test_pred)\n",
    "evs = explained_variance_score(y_test, y_test_pred) \n",
    "print(\"\\n#### Performance ####\")\n",
    "print(\"Mean squared error =\", round(mse, 2))\n",
    "print(\"Explained variance score =\", round(evs, 2))\n",
    "\n",
    "# Test the regressor on test datapoint\n",
    "test_data = [3.7, 0, 18.4, 1, 0.87, 5.95, 91, 2.5052, 26, 666, 20.2, 351.34, 15.27]\n",
    "print(\"\\nPredicted price:\", sv_regressor.predict([test_data])[0])\n"
   ]
  },
  {
   "cell_type": "code",
   "execution_count": null,
   "metadata": {},
   "outputs": [],
   "source": []
  }
 ],
 "metadata": {
  "kernelspec": {
   "display_name": "Python 3.10.4 ('test')",
   "language": "python",
   "name": "python3"
  },
  "language_info": {
   "codemirror_mode": {
    "name": "ipython",
    "version": 3
   },
   "file_extension": ".py",
   "mimetype": "text/x-python",
   "name": "python",
   "nbconvert_exporter": "python",
   "pygments_lexer": "ipython3",
   "version": "3.10.4"
  },
  "orig_nbformat": 4,
  "vscode": {
   "interpreter": {
    "hash": "981baf1948874b62570d8088db1242b0b85753f221a31816c8c587837181a860"
   }
  }
 },
 "nbformat": 4,
 "nbformat_minor": 2
}
